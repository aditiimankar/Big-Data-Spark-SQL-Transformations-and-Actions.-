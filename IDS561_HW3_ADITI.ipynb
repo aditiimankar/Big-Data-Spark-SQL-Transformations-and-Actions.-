{
 "cells": [
  {
   "cell_type": "code",
   "execution_count": 1,
   "id": "200f88e5",
   "metadata": {},
   "outputs": [
    {
     "name": "stdout",
     "output_type": "stream",
     "text": [
      "Requirement already satisfied: Spark in c:\\users\\amanka5\\anaconda3\\lib\\site-packages (0.2.1)\n"
     ]
    }
   ],
   "source": [
    "#installing spark\n",
    "!pip install Spark"
   ]
  },
  {
   "cell_type": "code",
   "execution_count": 2,
   "id": "23878a97",
   "metadata": {},
   "outputs": [
    {
     "name": "stdout",
     "output_type": "stream",
     "text": [
      "Requirement already satisfied: pyspark in c:\\users\\amanka5\\anaconda3\\lib\\site-packages (3.3.0)\n",
      "Requirement already satisfied: py4j==0.10.9.5 in c:\\users\\amanka5\\anaconda3\\lib\\site-packages (from pyspark) (0.10.9.5)\n",
      "Requirement already satisfied: findspark in c:\\users\\amanka5\\anaconda3\\lib\\site-packages (2.0.1)\n"
     ]
    }
   ],
   "source": [
    "#installing pyspark \n",
    "!pip install pyspark\n",
    "!pip install findspark"
   ]
  },
  {
   "cell_type": "code",
   "execution_count": 3,
   "id": "dade499c",
   "metadata": {},
   "outputs": [
    {
     "name": "stdout",
     "output_type": "stream",
     "text": [
      "Welcome to\n",
      "      ____              __\n",
      "     / __/__  ___ _____/ /__\n",
      "    _\\ \\/ _ \\/ _ `/ __/  '_/\n",
      "   /__ / .__/\\_,_/_/ /_/\\_\\   version 3.3.0\n",
      "      /_/\n",
      "\n",
      "Using Python version 3.9.12 (main, Apr  4 2022 05:22:27)\n",
      "Spark context Web UI available at http://TS-STUDENT-5016.hsd1.il.comcast.net:4040\n",
      "Spark context available as 'sc' (master = local[*], app id = local-1667693707278).\n",
      "SparkSession available as 'spark'.\n"
     ]
    }
   ],
   "source": [
    "#importing spark\n",
    "from pyspark.shell import spark"
   ]
  },
  {
   "cell_type": "code",
   "execution_count": 4,
   "id": "100f970b",
   "metadata": {},
   "outputs": [],
   "source": [
    "#importing pyspark and pandas\n",
    "import pyspark\n",
    "import pandas as pd"
   ]
  },
  {
   "cell_type": "code",
   "execution_count": 5,
   "id": "281245c5",
   "metadata": {},
   "outputs": [],
   "source": [
    "# Installing findspark - a python library to find Spark\n",
    "!pip install -q findspark"
   ]
  },
  {
   "cell_type": "code",
   "execution_count": 6,
   "id": "eba16ea1",
   "metadata": {},
   "outputs": [],
   "source": [
    "##Create spark session\n",
    "from pyspark.context import SparkContext\n",
    "from pyspark.sql.session import SparkSession\n",
    "from pyspark.sql import SparkSession"
   ]
  },
  {
   "cell_type": "code",
   "execution_count": 7,
   "id": "4d0e3eba",
   "metadata": {},
   "outputs": [],
   "source": [
    "import os\n",
    "os.environ[\"JAVA_HOME\"] = \"C:/Program Files/Java/jdk1.8.0_341-amd64\"\n",
    "os.environ[\"SPARK_HOME\"] = \"C:/Users/amanka5/Spark/spark-3.3.0-bin-hadoop2\""
   ]
  },
  {
   "cell_type": "markdown",
   "id": "d98a6051",
   "metadata": {},
   "source": [
    "# STEP 1"
   ]
  },
  {
   "cell_type": "code",
   "execution_count": 8,
   "id": "26c3794f",
   "metadata": {},
   "outputs": [],
   "source": [
    "#Step 1: Find out the users who are active in at least five listed days (i.e., created posts in at least 5 days)\n",
    "# in Amazon_Responded_Oct05.csv and save their “user_screen_name” and “user_id_str” \n",
    " #   in the dataframe “daily_active_users” (see below). Report how many active users you find"
   ]
  },
  {
   "cell_type": "code",
   "execution_count": 9,
   "id": "476ee181",
   "metadata": {
    "scrolled": true
   },
   "outputs": [
    {
     "name": "stdout",
     "output_type": "stream",
     "text": [
      "+--------------------+--------------------+----------------+-----------+-------------------+---------------------+--------------+-----------------+--------------+--------------------+-------------+-------------+--------------------+------------------+--------------------+--------------+--------------------+--------------+---------+-----------------------+-------------------------+-----------------------+-------------+---------+--------------------+\n",
      "|              id_str|    tweet_created_at|user_screen_name|user_id_str|user_statuses_count|user_favourites_count|user_protected|user_listed_count|user_following|    user_description|user_location|user_verified|user_followers_count|user_friends_count|     user_created_at|tweet_language|               text_|favorite_count|favorited|in_reply_to_screen_name|in_reply_to_status_id_str|in_reply_to_user_id_str|retweet_count|retweeted|                text|\n",
      "+--------------------+--------------------+----------------+-----------+-------------------+---------------------+--------------+-----------------+--------------+--------------------+-------------+-------------+--------------------+------------------+--------------------+--------------+--------------------+--------------+---------+-----------------------+-------------------------+-----------------------+-------------+---------+--------------------+\n",
      "|'793270689780203520'|Tue Nov 01 01:57:...|     SeanEPanjab|  143515471|              51287|                 4079|         False|               74|         False|Content marketer;...|   غریب الوطن|        False|                1503|               850|Thu May 13 17:43:...|            en|@AmazonHelp Can y...|             0|    False|             AmazonHelp|                     null|               85741735|            0|    False|                null|\n",
      "|'793281386912354304'|Tue Nov 01 02:39:...|      AmazonHelp|   85741735|            2225450|                11366|         False|              796|         False|We answer Amazon ...|         null|         True|              149569|                53|Wed Oct 28 04:17:...|            en|@SeanEPanjab I'm ...|             0|    False|            SeanEPanjab|     7.932706897802035...|              143515471|            0|    False|                null|\n",
      "|'793501578766319616'|Tue Nov 01 17:14:...|     SeanEPanjab|  143515471|              51287|                 4079|         False|               74|         False|Content marketer;...|   غریب الوطن|        False|                1503|               850|Thu May 13 17:43:...|            en|@AmazonHelp It wa...|             0|    False|             AmazonHelp|     7.932813869123543...|               85741735|            0|    False|@AmazonHelp It wa...|\n",
      "|'793501657346682880'|Tue Nov 01 17:15:...|     SeanEPanjab|  143515471|              51287|                 4079|         False|               74|         False|Content marketer;...|   غریب الوطن|        False|                1503|               850|Thu May 13 17:43:...|            en|@AmazonHelp I am ...|             0|    False|             AmazonHelp|     7.932813869123543...|               85741735|            0|    False|                null|\n",
      "|'793502854459879424'|Tue Nov 01 17:19:...|      AmazonHelp|   85741735|            2225450|                11366|         False|              796|         False|We answer Amazon ...|         null|         True|              149569|                53|Wed Oct 28 04:17:...|            en|@SeanEPanjab Plea...|             0|    False|            SeanEPanjab|     7.935015787663196...|              143515471|            0|    False|@SeanEPanjab Plea...|\n",
      "|'793504235400884224'|Tue Nov 01 17:25:...|      AmazonHelp|   85741735|            2225450|                11366|         False|              796|         False|We answer Amazon ...|         null|         True|              149569|                53|Wed Oct 28 04:17:...|            en|@SeanEPanjab With...|             0|    False|            SeanEPanjab|     7.935016573466829...|              143515471|            0|    False|                null|\n",
      "|'793511847899070465'|Tue Nov 01 17:55:...|     SeanEPanjab|  143515471|              51287|                 4079|         False|               74|         False|Content marketer;...|   غریب الوطن|        False|                1503|               850|Thu May 13 17:43:...|            en|@AmazonHelp It wa...|             0|    False|             AmazonHelp|     7.935042354008842...|               85741735|            0|    False|                null|\n",
      "|'793511899279208449'|Tue Nov 01 17:55:...|     SeanEPanjab|  143515471|              51287|                 4079|         False|               74|         False|Content marketer;...|   غریب الوطن|        False|                1503|               850|Thu May 13 17:43:...|            en|@AmazonHelp if it...|             0|    False|             AmazonHelp|     7.935042354008842...|               85741735|            0|    False|                null|\n",
      "|'793513446633533440'|Tue Nov 01 18:02:...|      AmazonHelp|   85741735|            2225450|                11366|         False|              796|         False|We answer Amazon ...|         null|         True|              149569|                53|Wed Oct 28 04:17:...|            en|@SeanEPanjab I'm ...|             0|    False|            SeanEPanjab|     7.935118992792084...|              143515471|            0|    False|@SeanEPanjab I'm ...|\n",
      "|'793299404975247360'|Tue Nov 01 03:51:...|   aakashwangnoo|   71457972|                592|                  471|         False|               11|         False|Don't try to be G...|    New Delhi|        False|                 234|                57|Fri Sep 04 04:55:...|            en|@JeffBezos @amazo...|             0|    False|              JeffBezos|                     null|               15506669|            0|    False|                null|\n",
      "|'793301295255945216'|Tue Nov 01 03:59:...|      AmazonHelp|   85741735|            2225442|                11366|         False|              796|         False|We answer Amazon ...|         null|         True|              149568|                53|Wed Oct 28 04:17:...|            en|@aakashwangnoo Hi...|             0|    False|          aakashwangnoo|     7.932994049752474...|               71457972|            0|    False|                null|\n",
      "|'793407430344310785'|Tue Nov 01 11:00:...|   aakashwangnoo|   71457972|                592|                  471|         False|               11|         False|Don't try to be G...|    New Delhi|        False|                 234|                57|Fri Sep 04 04:55:...|            en|@AmazonHelp How m...|             0|    False|             AmazonHelp|     7.933012952559452...|               85741735|            0|    False|                null|\n",
      "|'793423313674571776'|Tue Nov 01 12:03:...|      AmazonHelp|   85741735|            2225442|                11366|         False|              796|         False|We answer Amazon ...|         null|         True|              149568|                53|Wed Oct 28 04:17:...|            en|@aakashwangnoo Hi...|             0|    False|          aakashwangnoo|     7.934074303443108...|               71457972|            0|    False|@aakashwangnoo Hi...|\n",
      "|'793423314333134850'|Tue Nov 01 12:03:...|      AmazonHelp|   85741735|            2225442|                11366|         False|              796|         False|We answer Amazon ...|         null|         True|              149568|                53|Wed Oct 28 04:17:...|            en|@aakashwangnoo Pl...|             0|    False|          aakashwangnoo|     7.934074303443108...|               71457972|            0|    False|                null|\n",
      "|'793467086869630977'|Tue Nov 01 14:57:...|   aakashwangnoo|   71457972|                592|                  471|         False|               11|         False|Don't try to be G...|    New Delhi|        False|                 234|                57|Fri Sep 04 04:55:...|            en|@AmazonHelp @amaz...|             0|    False|             AmazonHelp|     7.934233143331348...|               85741735|            0|    False|                null|\n",
      "|'793492430666498050'|Tue Nov 01 16:38:...|      AmazonHelp|   85741735|            2225442|                11366|         False|              796|         False|We answer Amazon ...|         null|         True|              149568|                53|Wed Oct 28 04:17:...|            en|@aakashwangnoo Hi...|             0|    False|          aakashwangnoo|     7.93467086869631e+17|               71457972|            0|    False|@aakashwangnoo Hi...|\n",
      "|'793535036213501952'|Tue Nov 01 19:27:...|   aakashwangnoo|   71457972|                592|                  471|         False|               11|         False|Don't try to be G...|    New Delhi|        False|                 234|                57|Fri Sep 04 04:55:...|            en|@AmazonHelp @amaz...|             0|    False|             AmazonHelp|     7.93492430666498e+17|               85741735|            0|    False|                null|\n",
      "|'793535221329113088'|Tue Nov 01 19:28:...|   aakashwangnoo|   71457972|                592|                  471|         False|               11|         False|Don't try to be G...|    New Delhi|        False|                 234|                57|Fri Sep 04 04:55:...|            en|@AmazonHelp @amaz...|             0|    False|          aakashwangnoo|     7.93535036213502e+17|               71457972|            0|    False|                null|\n",
      "|'793537840533471232'|Tue Nov 01 19:38:...|   aakashwangnoo|   71457972|                592|                  471|         False|               11|         False|Don't try to be G...|    New Delhi|        False|                 234|                57|Fri Sep 04 04:55:...|            en|@AmazonHelp @amaz...|             0|    False|             AmazonHelp|     7.93492430666498e+17|               85741735|            0|    False|@AmazonHelp @amaz...|\n",
      "|'793538125884645376'|Tue Nov 01 19:40:...|   aakashwangnoo|   71457972|                592|                  471|         False|               11|         False|Don't try to be G...|    New Delhi|        False|                 234|                57|Fri Sep 04 04:55:...|            en|@AmazonHelp @amaz...|             0|    False|          aakashwangnoo|     7.935378405334712...|               71457972|            0|    False|@AmazonHelp @amaz...|\n",
      "+--------------------+--------------------+----------------+-----------+-------------------+---------------------+--------------+-----------------+--------------+--------------------+-------------+-------------+--------------------+------------------+--------------------+--------------+--------------------+--------------+---------+-----------------------+-------------------------+-----------------------+-------------+---------+--------------------+\n",
      "only showing top 20 rows\n",
      "\n"
     ]
    }
   ],
   "source": [
    "#Loading the Amazon_Responded CSV file\n",
    "data = spark.read.csv('C:/Users/amanka5/Desktop/Amazon_Responded_Oct05.csv', header = True, multiLine=True)\n",
    "data.show()"
   ]
  },
  {
   "cell_type": "code",
   "execution_count": 10,
   "id": "50f990c2",
   "metadata": {
    "scrolled": true
   },
   "outputs": [
    {
     "name": "stdout",
     "output_type": "stream",
     "text": [
      "+--------------------+----------------+-----------+\n",
      "|    tweet_created_at|user_screen_name|user_id_str|\n",
      "+--------------------+----------------+-----------+\n",
      "|Tue Nov 01 01:57:...|     SeanEPanjab|  143515471|\n",
      "|Tue Nov 01 02:39:...|      AmazonHelp|   85741735|\n",
      "|Tue Nov 01 17:14:...|     SeanEPanjab|  143515471|\n",
      "|Tue Nov 01 17:15:...|     SeanEPanjab|  143515471|\n",
      "|Tue Nov 01 17:19:...|      AmazonHelp|   85741735|\n",
      "+--------------------+----------------+-----------+\n",
      "only showing top 5 rows\n",
      "\n"
     ]
    }
   ],
   "source": [
    "#Considering only three columns- tweet_created_at, user_screen_name, user_id_str\n",
    "data = data.select('tweet_created_at', 'user_screen_name', 'user_id_str')\n",
    "data.show(5)"
   ]
  },
  {
   "cell_type": "code",
   "execution_count": 11,
   "id": "ffebaf5f",
   "metadata": {},
   "outputs": [
    {
     "name": "stdout",
     "output_type": "stream",
     "text": [
      "+--------------------+----------------+-----------+\n",
      "|    tweet_created_at|user_screen_name|user_id_str|\n",
      "+--------------------+----------------+-----------+\n",
      "|Tue Nov 01 19:27:...|   aakashwangnoo|   71457972|\n",
      "|Tue Nov 01 12:09:...|      AmazonHelp|   85741735|\n",
      "|Wed Nov 02 07:42:...|      AmazonHelp|   85741735|\n",
      "|Tue Nov 01 18:31:...| robertcaldecott|  175322072|\n",
      "|Tue Nov 01 20:48:...|      AmazonHelp|   85741735|\n",
      "+--------------------+----------------+-----------+\n",
      "only showing top 5 rows\n",
      "\n"
     ]
    }
   ],
   "source": [
    "#dropping the duplicate values\n",
    "data.dropDuplicates().show(5)\n"
   ]
  },
  {
   "cell_type": "code",
   "execution_count": 12,
   "id": "69bb40e9",
   "metadata": {},
   "outputs": [
    {
     "name": "stdout",
     "output_type": "stream",
     "text": [
      "+--------------------+----------------+--------------------+\n",
      "|    tweet_created_at|user_screen_name|         user_id_str|\n",
      "+--------------------+----------------+--------------------+\n",
      "| 2016\"\" @amazon W...|            null|                null|\n",
      "| talk about TV/Mo...|            null|               False|\n",
      "|               FedEx|          Ontrac| UPS in that order.\"|\n",
      "|         even mobile|        for me.\"|                   0|\n",
      "| 2016\"\" @amazon W...|               0|               False|\n",
      "|Fri Feb 03 04:53:...|         005naga|           360050785|\n",
      "|Sat Jul 29 20:18:...|  007varunsharma|           292912552|\n",
      "|Fri Jan 27 00:11:...|    00GrlGamer00|            47723878|\n",
      "|Mon Mar 27 17:34:...|  00clarkesville|            44862872|\n",
      "|Tue Nov 08 18:49:...|      011jeanluc|           353404797|\n",
      "|Tue Mar 28 18:21:...|   01jasonsteele|            26896789|\n",
      "|Thu Mar 30 09:51:...|          091176|           140004270|\n",
      "|Mon Jan 09 21:52:...|          0Apes0|            51038776|\n",
      "|Sat Feb 25 17:06:...|           0MC18|            83912518|\n",
      "|Fri Mar 17 15:16:...|           0Rouh|           596424187|\n",
      "|Thu Nov 24 17:11:...|      0berhauser|           182295301|\n",
      "|Sat Apr 15 07:46:...|            0hjc|           441213461|\n",
      "|Thu Dec 01 22:48:...|    0x4E0x650x6F|           108572456|\n",
      "|Sun May 21 02:27:...|          0xJAKE|          4146949275|\n",
      "|Sun Apr 16 18:03:...|         0xtobit|            14211575|\n",
      "+--------------------+----------------+--------------------+\n",
      "only showing top 20 rows\n",
      "\n"
     ]
    }
   ],
   "source": [
    "#dropping duplicates values from user_screen_name & user_id_str columns\n",
    "data.dropDuplicates(['user_screen_name', 'user_id_str']).show()"
   ]
  },
  {
   "cell_type": "code",
   "execution_count": 13,
   "id": "a0aceae9",
   "metadata": {},
   "outputs": [],
   "source": [
    "from pyspark.sql import functions as psf"
   ]
  },
  {
   "cell_type": "code",
   "execution_count": 14,
   "id": "50b16645",
   "metadata": {},
   "outputs": [
    {
     "name": "stdout",
     "output_type": "stream",
     "text": [
      "+----------------+-----+\n",
      "|tweet_created_at|count|\n",
      "+----------------+-----+\n",
      "|     Dec 01 2016| 1998|\n",
      "|     Dec 25 2016|  926|\n",
      "|     Feb 08 2017| 2013|\n",
      "|     Feb 19 2017| 1560|\n",
      "|     Mar 30 2017| 2341|\n",
      "|     Apr 26 2017|  696|\n",
      "|     Dec 05 2016| 1865|\n",
      "|     Dec 18 2016|  415|\n",
      "|     Jul 06 2017| 1476|\n",
      "|     Mar 20 2017| 1248|\n",
      "|     May 28 2017|  354|\n",
      "|     Jul 26 2017|   65|\n",
      "|     Feb 22 2017| 2278|\n",
      "|     Jun 29 2017| 1294|\n",
      "|     Mar 13 2017| 1094|\n",
      "|     Apr 24 2017|  532|\n",
      "|     Jul 18 2017|  762|\n",
      "|     Feb 17 2017|  379|\n",
      "|     Jul 12 2017|  375|\n",
      "|     Apr 12 2017|  591|\n",
      "+----------------+-----+\n",
      "only showing top 20 rows\n",
      "\n",
      "+----------------+----------------+-----------+\n",
      "|tweet_created_at|user_screen_name|user_id_str|\n",
      "+----------------+----------------+-----------+\n",
      "|     Nov 01 2016|     SeanEPanjab|  143515471|\n",
      "|     Nov 01 2016|      AmazonHelp|   85741735|\n",
      "|     Nov 01 2016|     SeanEPanjab|  143515471|\n",
      "|     Nov 01 2016|     SeanEPanjab|  143515471|\n",
      "|     Nov 01 2016|      AmazonHelp|   85741735|\n",
      "+----------------+----------------+-----------+\n",
      "only showing top 5 rows\n",
      "\n"
     ]
    }
   ],
   "source": [
    "#Formatting the date\n",
    "\n",
    "data1 = data.withColumn('tweet_created_at', psf.concat(data.tweet_created_at.substr(5, 6), data.tweet_created_at.substr(26, 5)))\n",
    "\n",
    "data1 = data1.filter(data1.tweet_created_at.startswith(\"Jan\") | data1.tweet_created_at.startswith(\"Feb\") | data1.tweet_created_at.startswith(\"Mar\") | data1.tweet_created_at.startswith(\"Apr\") | data1.tweet_created_at.startswith(\"May\") | data1.tweet_created_at.startswith(\"Jun\") | data1.tweet_created_at.startswith(\"Jul\") | data1.tweet_created_at.startswith(\"Aug\") | data1.tweet_created_at.startswith(\"Sep\") | data1.tweet_created_at.startswith(\"Oct\") | data1.tweet_created_at.startswith(\"Nov\") | data1.tweet_created_at.startswith(\"Dec\"))\n",
    "\n",
    "data1.groupby(\"tweet_created_at\").count().show()\n",
    "data1.show(5)"
   ]
  },
  {
   "cell_type": "code",
   "execution_count": 15,
   "id": "08b58eef",
   "metadata": {},
   "outputs": [
    {
     "name": "stdout",
     "output_type": "stream",
     "text": [
      "+----------------+----------------+-----------+\n",
      "|tweet_created_at|user_screen_name|user_id_str|\n",
      "+----------------+----------------+-----------+\n",
      "|     Nov 01 2016|     SeanEPanjab|  143515471|\n",
      "|     Nov 01 2016|      AmazonHelp|   85741735|\n",
      "|     Nov 01 2016|     SeanEPanjab|  143515471|\n",
      "|     Nov 01 2016|     SeanEPanjab|  143515471|\n",
      "|     Nov 01 2016|      AmazonHelp|   85741735|\n",
      "+----------------+----------------+-----------+\n",
      "only showing top 5 rows\n",
      "\n"
     ]
    }
   ],
   "source": [
    "data1.show(5)"
   ]
  },
  {
   "cell_type": "code",
   "execution_count": 16,
   "id": "38eae820",
   "metadata": {},
   "outputs": [],
   "source": [
    "#removing duplicates dates values\n",
    "data1 = data1.dropDuplicates()\n"
   ]
  },
  {
   "cell_type": "code",
   "execution_count": 17,
   "id": "dec2b70a",
   "metadata": {},
   "outputs": [
    {
     "name": "stdout",
     "output_type": "stream",
     "text": [
      "+----------------+------------------+\n",
      "|user_screen_name|       user_id_str|\n",
      "+----------------+------------------+\n",
      "|         YIF_JAK|          24787056|\n",
      "|     SPWseventy7|        1675908295|\n",
      "|  MW3GAMEUPDATES|          40573844|\n",
      "| StrongenoughMW1|         391582041|\n",
      "|    Linked2Steve|         144895933|\n",
      "|     _GAMER_4421|        2504948270|\n",
      "|  butchrosenberg|        1536789132|\n",
      "|      EuricaeriS|          46162630|\n",
      "|   Dogearedtatty|         716850865|\n",
      "| HakimUjjainwala|         281911333|\n",
      "|        aaminaxa|         100856463|\n",
      "|        rksb1610|        3259730341|\n",
      "|    Nataliejc777|        3377092467|\n",
      "|        melbob30|         565729091|\n",
      "|   LeanneCTaylor|          55693415|\n",
      "|   Jsingh53Singh|798974954167554048|\n",
      "|     beckyhirons|          19711802|\n",
      "|    HollowFacade|741766918047203328|\n",
      "|    white_mollie|         309757122|\n",
      "|      lorijovest|          15778256|\n",
      "+----------------+------------------+\n",
      "only showing top 20 rows\n",
      "\n"
     ]
    }
   ],
   "source": [
    "data1.select('user_screen_name', 'user_id_str').show()"
   ]
  },
  {
   "cell_type": "code",
   "execution_count": 18,
   "id": "3aa25a16",
   "metadata": {},
   "outputs": [
    {
     "name": "stdout",
     "output_type": "stream",
     "text": [
      "+----------------+-----+\n",
      "|user_screen_name|count|\n",
      "+----------------+-----+\n",
      "|        MshahidK|    1|\n",
      "|     CamNiblett1|    1|\n",
      "|    avasthi_amit|    1|\n",
      "|       Humanizli|    1|\n",
      "|     violetxoxox|    1|\n",
      "|   sameerali7864|    3|\n",
      "|  KayKayThePanda|    2|\n",
      "|   MrsSewellSays|    2|\n",
      "|       rt_kapoor|    1|\n",
      "|  KrishnaNand162|    2|\n",
      "|    Dhritiman911|    1|\n",
      "|       tarmcadam|    2|\n",
      "|   asaduzair2001|    2|\n",
      "|    jamesmadelin|    3|\n",
      "|          hqp921|    1|\n",
      "|  thatlaurachick|    3|\n",
      "|   WhitwoodChloe|    2|\n",
      "|     harshshah35|    1|\n",
      "|     myinnerthin|    1|\n",
      "|         Tutups_|    3|\n",
      "+----------------+-----+\n",
      "only showing top 20 rows\n",
      "\n"
     ]
    }
   ],
   "source": [
    "#using groupby function\n",
    "tweet_count = data1.select('user_screen_name', 'user_id_str').groupBy(\"user_screen_name\").count()\n",
    "tweet_count.show()"
   ]
  },
  {
   "cell_type": "code",
   "execution_count": 19,
   "id": "2d2c4293",
   "metadata": {},
   "outputs": [],
   "source": [
    "#Creating a dataframe \"daily active users\" \n",
    "\n",
    "daily_active_users = data1.groupBy(['user_screen_name', 'user_id_str']).count()"
   ]
  },
  {
   "cell_type": "code",
   "execution_count": 20,
   "id": "bc9b3a61",
   "metadata": {
    "scrolled": true
   },
   "outputs": [],
   "source": [
    "#considering users with at least 5 posts\n",
    "daily_active_users = daily_active_users.filter(\"count >= 5\")\n",
    "daily_active_users = daily_active_users.select('user_screen_name','user_id_str')"
   ]
  },
  {
   "cell_type": "code",
   "execution_count": 21,
   "id": "2b01c482",
   "metadata": {},
   "outputs": [
    {
     "name": "stdout",
     "output_type": "stream",
     "text": [
      "+----------------+------------------+\n",
      "|user_screen_name|       user_id_str|\n",
      "+----------------+------------------+\n",
      "|       SkullyRox|          20391647|\n",
      "|   Gentlemen_Sam|         441572163|\n",
      "|        remakoul|814372928695521280|\n",
      "|  sky_regenrated|         483059773|\n",
      "|          MtnrMS|        3309102108|\n",
      "+----------------+------------------+\n",
      "only showing top 5 rows\n",
      "\n"
     ]
    }
   ],
   "source": [
    "daily_active_users.show(5)"
   ]
  },
  {
   "cell_type": "code",
   "execution_count": 22,
   "id": "ec634d37",
   "metadata": {},
   "outputs": [
    {
     "name": "stdout",
     "output_type": "stream",
     "text": [
      "The number of daily active users is 593\n"
     ]
    }
   ],
   "source": [
    "#Printing the number of daily active users, and count \n",
    "\n",
    "print(\"The number of daily active users is\", daily_active_users.count())"
   ]
  },
  {
   "cell_type": "code",
   "execution_count": 23,
   "id": "9ce94db5",
   "metadata": {},
   "outputs": [],
   "source": [
    "# Converting the daily_active_users output to csv\n",
    "daily_active_users.toPandas().to_csv('C:/Users/amanka5/Desktop/daily_active_users.csv',index = False) "
   ]
  },
  {
   "cell_type": "markdown",
   "id": "fb21846c",
   "metadata": {},
   "source": [
    "\n",
    "# # STEP 2"
   ]
  },
  {
   "cell_type": "code",
   "execution_count": 24,
   "id": "0f210e22",
   "metadata": {},
   "outputs": [],
   "source": [
    "#A company would like to conduct an A/B test on Twitter.\n",
    "#The experiment.txt file includes the user_id_str they selected as potential experiment targets. \n",
    "#Please create a dataframe “experiment_user” to document the selected user id \n",
    "#and whether they are active users (join the dataframe from step 1). For example:"
   ]
  },
  {
   "cell_type": "code",
   "execution_count": 25,
   "id": "76618a5d",
   "metadata": {},
   "outputs": [
    {
     "name": "stdout",
     "output_type": "stream",
     "text": [
      "+----------+\n",
      "|       _c0|\n",
      "+----------+\n",
      "| 143515471|\n",
      "|  85741735|\n",
      "|  71457972|\n",
      "|2908108256|\n",
      "| 106799492|\n",
      "|  59156981|\n",
      "| 902137872|\n",
      "| 110354554|\n",
      "|  97424433|\n",
      "|  62364020|\n",
      "|2706101936|\n",
      "|   5654472|\n",
      "| 145579921|\n",
      "|2502172122|\n",
      "| 243716471|\n",
      "|2610379644|\n",
      "| 123138418|\n",
      "| 257376764|\n",
      "| 269145593|\n",
      "| 370711133|\n",
      "+----------+\n",
      "only showing top 20 rows\n",
      "\n"
     ]
    }
   ],
   "source": [
    "##Importing the experiment.txt file\n",
    "\n",
    "experiment_data = spark.read.csv('C:/Users/amanka5/Desktop/experiment.csv', header = False, multiLine=True)\n",
    "experiment_data.show()"
   ]
  },
  {
   "cell_type": "code",
   "execution_count": 26,
   "id": "529b297e",
   "metadata": {},
   "outputs": [
    {
     "name": "stdout",
     "output_type": "stream",
     "text": [
      "+------------+\n",
      "|user_id_str2|\n",
      "+------------+\n",
      "|   143515471|\n",
      "|    85741735|\n",
      "|    71457972|\n",
      "|  2908108256|\n",
      "|   106799492|\n",
      "+------------+\n",
      "only showing top 5 rows\n",
      "\n"
     ]
    }
   ],
   "source": [
    "#renaming the column '_c0'\n",
    "experiment_data = experiment_data.withColumnRenamed(\"_c0\", \"user_id_str2\")\n",
    "experiment_data.show(5)"
   ]
  },
  {
   "cell_type": "code",
   "execution_count": 27,
   "id": "38d4075a",
   "metadata": {},
   "outputs": [],
   "source": [
    "#joining the dataframe experiment_data with daily_active_users from step 1\n",
    "join_data = experiment_data.join(daily_active_users, daily_active_users.user_id_str == experiment_data.user_id_str2, how = 'left')"
   ]
  },
  {
   "cell_type": "code",
   "execution_count": 28,
   "id": "01d5cee7",
   "metadata": {},
   "outputs": [
    {
     "name": "stdout",
     "output_type": "stream",
     "text": [
      "+------------+----------------+-----------+\n",
      "|user_id_str2|user_screen_name|user_id_str|\n",
      "+------------+----------------+-----------+\n",
      "|   106799492|            null|       null|\n",
      "|  2610379644|            null|       null|\n",
      "|    62364020|            null|       null|\n",
      "|   123138418|            null|       null|\n",
      "|  2908108256|            null|       null|\n",
      "|   143515471|            null|       null|\n",
      "|    97424433|            null|       null|\n",
      "|  2706101936|            null|       null|\n",
      "|  1510968974|            null|       null|\n",
      "|   110354554| praveen_pandey_|  110354554|\n",
      "|  2502172122|            null|       null|\n",
      "|   243716471|            null|       null|\n",
      "|    59156981|            null|       null|\n",
      "|    71457972|            null|       null|\n",
      "|   257376764|            null|       null|\n",
      "|     5654472|            null|       null|\n",
      "|    85741735|      AmazonHelp|   85741735|\n",
      "|   370711133|            null|       null|\n",
      "|   145579921|            null|       null|\n",
      "|   902137872|     mybharatraj|  902137872|\n",
      "+------------+----------------+-----------+\n",
      "only showing top 20 rows\n",
      "\n"
     ]
    }
   ],
   "source": [
    "join_data.show()"
   ]
  },
  {
   "cell_type": "code",
   "execution_count": 29,
   "id": "c11e13da",
   "metadata": {},
   "outputs": [
    {
     "name": "stdout",
     "output_type": "stream",
     "text": [
      "+-----------+------------+\n",
      "|user_id_str|user_id_str2|\n",
      "+-----------+------------+\n",
      "|       null|   143515471|\n",
      "|   85741735|    85741735|\n",
      "|       null|    71457972|\n",
      "|       null|  2908108256|\n",
      "|       null|   106799492|\n",
      "|       null|    59156981|\n",
      "|  902137872|   902137872|\n",
      "|  110354554|   110354554|\n",
      "|       null|    97424433|\n",
      "|       null|    62364020|\n",
      "|       null|  2706101936|\n",
      "|       null|     5654472|\n",
      "|       null|   145579921|\n",
      "|       null|  2502172122|\n",
      "|       null|   243716471|\n",
      "|       null|  2610379644|\n",
      "|       null|   123138418|\n",
      "|       null|   257376764|\n",
      "|       null|   269145593|\n",
      "|       null|   370711133|\n",
      "+-----------+------------+\n",
      "only showing top 20 rows\n",
      "\n"
     ]
    }
   ],
   "source": [
    "#checking the joined columns\n",
    "join_data1 = join_data.select('user_id_str', 'user_id_str2')\n",
    "join_data1.show()"
   ]
  },
  {
   "cell_type": "code",
   "execution_count": 30,
   "id": "7f0267d6",
   "metadata": {},
   "outputs": [
    {
     "name": "stdout",
     "output_type": "stream",
     "text": [
      "+------------+--------------+\n",
      "|user_id_str2|whether_active|\n",
      "+------------+--------------+\n",
      "|   143515471|            No|\n",
      "|    85741735|           Yes|\n",
      "|    71457972|            No|\n",
      "|  2908108256|            No|\n",
      "|   106799492|            No|\n",
      "|    59156981|            No|\n",
      "|   902137872|           Yes|\n",
      "|   110354554|           Yes|\n",
      "|    97424433|            No|\n",
      "|    62364020|            No|\n",
      "|  2706101936|            No|\n",
      "|     5654472|            No|\n",
      "|   145579921|            No|\n",
      "|  2502172122|            No|\n",
      "|   243716471|            No|\n",
      "|  2610379644|            No|\n",
      "|   123138418|            No|\n",
      "|   257376764|            No|\n",
      "|   269145593|            No|\n",
      "|   370711133|            No|\n",
      "+------------+--------------+\n",
      "only showing top 20 rows\n",
      "\n"
     ]
    }
   ],
   "source": [
    "from pyspark.sql.functions import col, expr, when\n",
    "\n",
    "#selecting user ids and seperating them based on their activity status\n",
    "experiment_user = join_data1.withColumn(\"whether_active\", when(col(\"user_id_str\").isNull(),\"No\").otherwise(\"Yes\")).drop(\"user_id_str\")\n",
    "\n",
    "experiment_user.show() "
   ]
  },
  {
   "cell_type": "code",
   "execution_count": 31,
   "id": "6855e8c3",
   "metadata": {},
   "outputs": [],
   "source": [
    "#renaming the column 'user_id_str2'\n",
    "experiment_data = experiment_data.withColumnRenamed(\"user_id_str2\", \"user_id_str\")\n"
   ]
  },
  {
   "cell_type": "code",
   "execution_count": 32,
   "id": "54069da7",
   "metadata": {
    "scrolled": false
   },
   "outputs": [
    {
     "name": "stdout",
     "output_type": "stream",
     "text": [
      "+------------+--------------+\n",
      "|user_id_str2|whether_active|\n",
      "+------------+--------------+\n",
      "|   143515471|            No|\n",
      "|    85741735|           Yes|\n",
      "|    71457972|            No|\n",
      "|  2908108256|            No|\n",
      "|   106799492|            No|\n",
      "+------------+--------------+\n",
      "only showing top 5 rows\n",
      "\n"
     ]
    }
   ],
   "source": [
    "#check the experiment_user \n",
    "experiment_user.show(5)"
   ]
  },
  {
   "cell_type": "code",
   "execution_count": 33,
   "id": "fc5786ee",
   "metadata": {},
   "outputs": [],
   "source": [
    "# Converting the final output to csv\n",
    "experiment_user.toPandas().to_csv('C:/Users/amanka5/Desktop/experiment_user.csv',index = False) "
   ]
  },
  {
   "cell_type": "code",
   "execution_count": 34,
   "id": "5b991724",
   "metadata": {},
   "outputs": [
    {
     "name": "stdout",
     "output_type": "stream",
     "text": [
      "The number of total experiment_user is 5000 .\n"
     ]
    }
   ],
   "source": [
    "print(\"The number of total experiment_user is\", experiment_user.count(),\".\")"
   ]
  },
  {
   "cell_type": "code",
   "execution_count": 35,
   "id": "ba3d7d0a",
   "metadata": {},
   "outputs": [],
   "source": [
    "#Calculate the percentage of active user and print out the result."
   ]
  },
  {
   "cell_type": "code",
   "execution_count": 36,
   "id": "c127a90d",
   "metadata": {},
   "outputs": [
    {
     "name": "stdout",
     "output_type": "stream",
     "text": [
      "+--------------+-----+\n",
      "|whether_active|count|\n",
      "+--------------+-----+\n",
      "|            No| 4885|\n",
      "|           Yes|  115|\n",
      "+--------------+-----+\n",
      "\n"
     ]
    }
   ],
   "source": [
    "#count & take the active user's percentage\n",
    "dfm = experiment_user.groupBy('whether_active').count()\n",
    "dfm.show()"
   ]
  },
  {
   "cell_type": "code",
   "execution_count": 37,
   "id": "f703fde7",
   "metadata": {
    "scrolled": true
   },
   "outputs": [
    {
     "name": "stdout",
     "output_type": "stream",
     "text": [
      "+--------------+-----+-------+\n",
      "|whether_active|count|percent|\n",
      "+--------------+-----+-------+\n",
      "|            No| 4885|   97.7|\n",
      "|           Yes|  115|    2.3|\n",
      "+--------------+-----+-------+\n",
      "\n"
     ]
    }
   ],
   "source": [
    "active_users = dfm.select(\"count\").agg({\"count\": \"sum\"}).collect().pop()['sum(count)']\n",
    "result = dfm.withColumn('percent', (dfm['count']/active_users) * 100)\n",
    "result.show()"
   ]
  },
  {
   "cell_type": "markdown",
   "id": "45c4510c",
   "metadata": {},
   "source": [
    "# From above, the percentage of active user is 2.3%."
   ]
  },
  {
   "cell_type": "markdown",
   "id": "e0796faf",
   "metadata": {},
   "source": [
    "# Step 3: In homework 2, you have already known how to join 2 tables in spark. Now you are going to perform a 3-table join task. "
   ]
  },
  {
   "cell_type": "code",
   "execution_count": 49,
   "id": "bd6ca59d",
   "metadata": {},
   "outputs": [],
   "source": [
    "#Loading the final_experiment CSV file\n",
    "\n",
    "final_experiment = spark.read.csv('C:/Users/amanka5/Desktop/final_experiment1.csv',header=True)"
   ]
  },
  {
   "cell_type": "code",
   "execution_count": 50,
   "id": "e30bbb5c",
   "metadata": {},
   "outputs": [
    {
     "name": "stdout",
     "output_type": "stream",
     "text": [
      "+-----------+----+--------------+----------------+\n",
      "|user_id_str|info|whether_active|user_screen_name|\n",
      "+-----------+----+--------------+----------------+\n",
      "|   62364020|   F|          null|            null|\n",
      "| 2706101936|   M|          null|            null|\n",
      "|    5654472|   F|          null|            null|\n",
      "|  145579921|   F|          null|            null|\n",
      "| 2502172122|   M|          null|            null|\n",
      "+-----------+----+--------------+----------------+\n",
      "only showing top 5 rows\n",
      "\n"
     ]
    }
   ],
   "source": [
    "final_experiment.show(5)"
   ]
  },
  {
   "cell_type": "code",
   "execution_count": 51,
   "id": "c2001701",
   "metadata": {},
   "outputs": [],
   "source": [
    "#joining the experiment_user dataframe with daily_active_user\n",
    "join_data_final1 = experiment_user.join(daily_active_users, daily_active_users.user_id_str == experiment_user.user_id_str2, how = 'left')"
   ]
  },
  {
   "cell_type": "code",
   "execution_count": 52,
   "id": "ff8fbfab",
   "metadata": {},
   "outputs": [
    {
     "name": "stdout",
     "output_type": "stream",
     "text": [
      "+------------+--------------+----------------+-----------+\n",
      "|user_id_str2|whether_active|user_screen_name|user_id_str|\n",
      "+------------+--------------+----------------+-----------+\n",
      "|   143515471|            No|            null|       null|\n",
      "|    85741735|           Yes|      AmazonHelp|   85741735|\n",
      "|    71457972|            No|            null|       null|\n",
      "|  2908108256|            No|            null|       null|\n",
      "|   106799492|            No|            null|       null|\n",
      "+------------+--------------+----------------+-----------+\n",
      "only showing top 5 rows\n",
      "\n"
     ]
    }
   ],
   "source": [
    "join_data_final1.show(5)"
   ]
  },
  {
   "cell_type": "code",
   "execution_count": 53,
   "id": "a64f2673",
   "metadata": {},
   "outputs": [
    {
     "name": "stdout",
     "output_type": "stream",
     "text": [
      "+------------+--------------------+----------------------+-----------------+\n",
      "|user_id_str2|final_whether_active|final_user_screen_name|final_user_id_str|\n",
      "+------------+--------------------+----------------------+-----------------+\n",
      "|   143515471|                  No|                  null|             null|\n",
      "|    85741735|                 Yes|            AmazonHelp|         85741735|\n",
      "|    71457972|                  No|                  null|             null|\n",
      "|  2908108256|                  No|                  null|             null|\n",
      "|   106799492|                  No|                  null|             null|\n",
      "|    59156981|                  No|                  null|             null|\n",
      "|   902137872|                 Yes|           mybharatraj|        902137872|\n",
      "|   110354554|                 Yes|       praveen_pandey_|        110354554|\n",
      "|    97424433|                  No|                  null|             null|\n",
      "|    62364020|                  No|                  null|             null|\n",
      "|  2706101936|                  No|                  null|             null|\n",
      "|     5654472|                  No|                  null|             null|\n",
      "|   145579921|                  No|                  null|             null|\n",
      "|  2502172122|                  No|                  null|             null|\n",
      "|   243716471|                  No|                  null|             null|\n",
      "|  2610379644|                  No|                  null|             null|\n",
      "|   123138418|                  No|                  null|             null|\n",
      "|   257376764|                  No|                  null|             null|\n",
      "|   269145593|                  No|                  null|             null|\n",
      "|   370711133|                  No|                  null|             null|\n",
      "+------------+--------------------+----------------------+-----------------+\n",
      "only showing top 20 rows\n",
      "\n"
     ]
    }
   ],
   "source": [
    "#renaming the column\n",
    "\n",
    "join_data_final1 = join_data_final1.withColumnRenamed(\"whether_active\",\"final_whether_active\").withColumnRenamed(\"user_screen_name\",\"final_user_screen_name\").withColumnRenamed(\"user_id_str\",\"final_user_id_str\")\n",
    "join_data_final1.show()"
   ]
  },
  {
   "cell_type": "code",
   "execution_count": 54,
   "id": "48efb430",
   "metadata": {},
   "outputs": [],
   "source": [
    "#joining the final_experiment data with the above join\n",
    "\n",
    "join_data_final2 = final_experiment.join(join_data_final1, final_experiment.user_id_str == join_data_final1.user_id_str2, how = 'left')"
   ]
  },
  {
   "cell_type": "code",
   "execution_count": 55,
   "id": "af9b34b5",
   "metadata": {},
   "outputs": [
    {
     "name": "stdout",
     "output_type": "stream",
     "text": [
      "+-----------+----+--------------+----------------+------------+--------------------+----------------------+-----------------+\n",
      "|user_id_str|info|whether_active|user_screen_name|user_id_str2|final_whether_active|final_user_screen_name|final_user_id_str|\n",
      "+-----------+----+--------------+----------------+------------+--------------------+----------------------+-----------------+\n",
      "| 1112166661|   F|          null|            null|  1112166661|                  No|                  null|             null|\n",
      "| 1209614366|   M|          null|            null|  1209614366|                  No|                  null|             null|\n",
      "|  123138418|   M|          null|            null|   123138418|                  No|                  null|             null|\n",
      "|  145579921|   F|          null|            null|   145579921|                  No|                  null|             null|\n",
      "| 1510968974|   F|          null|            null|  1510968974|                  No|                  null|             null|\n",
      "|  163413904|   F|          null|            null|   163413904|                  No|                  null|             null|\n",
      "|   16980347|   M|          null|            null|    16980347|                  No|                  null|             null|\n",
      "| 1970607968|   M|          null|            null|  1970607968|                  No|                  null|             null|\n",
      "|  243716471|   F|          null|            null|   243716471|                  No|                  null|             null|\n",
      "| 2502172122|   M|          null|            null|  2502172122|                  No|                  null|             null|\n",
      "|  257376764|   F|          null|            null|   257376764|                  No|                  null|             null|\n",
      "| 2610379644|   M|          null|            null|  2610379644|                  No|                  null|             null|\n",
      "|  269145593|   M|          null|            null|   269145593|                  No|                  null|             null|\n",
      "| 2706101936|   M|          null|            null|  2706101936|                  No|                  null|             null|\n",
      "| 3285473358|   F|          null|            null|  3285473358|                 Yes|          iwritegarima|       3285473358|\n",
      "| 3526380922|   M|          null|            null|  3526380922|                  No|                  null|             null|\n",
      "|  370711133|   F|          null|            null|   370711133|                  No|                  null|             null|\n",
      "|  422175328|   M|          null|            null|   422175328|                  No|                  null|             null|\n",
      "|  447433286|   F|          null|            null|   447433286|                  No|                  null|             null|\n",
      "|    5654472|   F|          null|            null|     5654472|                  No|                  null|             null|\n",
      "+-----------+----+--------------+----------------+------------+--------------------+----------------------+-----------------+\n",
      "only showing top 20 rows\n",
      "\n"
     ]
    }
   ],
   "source": [
    "join_data_final2.show()"
   ]
  },
  {
   "cell_type": "code",
   "execution_count": 56,
   "id": "06ec2490",
   "metadata": {},
   "outputs": [
    {
     "name": "stdout",
     "output_type": "stream",
     "text": [
      "+-----------+----+--------------------+----------------------+\n",
      "|user_id_str|info|final_whether_active|final_user_screen_name|\n",
      "+-----------+----+--------------------+----------------------+\n",
      "| 1112166661|   F|                  No|                  null|\n",
      "| 1209614366|   M|                  No|                  null|\n",
      "|  123138418|   M|                  No|                  null|\n",
      "|  145579921|   F|                  No|                  null|\n",
      "| 1510968974|   F|                  No|                  null|\n",
      "|  163413904|   F|                  No|                  null|\n",
      "|   16980347|   M|                  No|                  null|\n",
      "| 1970607968|   M|                  No|                  null|\n",
      "|  243716471|   F|                  No|                  null|\n",
      "| 2502172122|   M|                  No|                  null|\n",
      "|  257376764|   F|                  No|                  null|\n",
      "| 2610379644|   M|                  No|                  null|\n",
      "|  269145593|   M|                  No|                  null|\n",
      "| 2706101936|   M|                  No|                  null|\n",
      "| 3285473358|   F|                 Yes|          iwritegarima|\n",
      "| 3526380922|   M|                  No|                  null|\n",
      "|  370711133|   F|                  No|                  null|\n",
      "|  422175328|   M|                  No|                  null|\n",
      "|  447433286|   F|                  No|                  null|\n",
      "|    5654472|   F|                  No|                  null|\n",
      "+-----------+----+--------------------+----------------------+\n",
      "only showing top 20 rows\n",
      "\n"
     ]
    }
   ],
   "source": [
    "#considering only 4 columns and dropping remaining one\n",
    "final_columns = join_data_final2.drop(\"whether_active\",\"user_screen_name\",\"user_id_str2\",\"final_user_id_str\")\n",
    "final_columns.show()"
   ]
  },
  {
   "cell_type": "code",
   "execution_count": 57,
   "id": "21bc3398",
   "metadata": {},
   "outputs": [],
   "source": [
    "#Here Left join is used, to join the dataframes and to return all the rows from the dataframe and drop the null values if they are not matched.\n"
   ]
  },
  {
   "cell_type": "code",
   "execution_count": 59,
   "id": "31cde9b1",
   "metadata": {},
   "outputs": [],
   "source": [
    "# Converting the final output to csv\n",
    "final_columns.toPandas().to_csv('C:/Users/amanka5/Desktop/final_experiment.csv',index = False) "
   ]
  },
  {
   "cell_type": "code",
   "execution_count": null,
   "id": "700f1052",
   "metadata": {},
   "outputs": [],
   "source": []
  }
 ],
 "metadata": {
  "kernelspec": {
   "display_name": "Python 3 (ipykernel)",
   "language": "python",
   "name": "python3"
  },
  "language_info": {
   "codemirror_mode": {
    "name": "ipython",
    "version": 3
   },
   "file_extension": ".py",
   "mimetype": "text/x-python",
   "name": "python",
   "nbconvert_exporter": "python",
   "pygments_lexer": "ipython3",
   "version": "3.9.12"
  }
 },
 "nbformat": 4,
 "nbformat_minor": 5
}
